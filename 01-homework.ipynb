{
  "cells": [
    {
      "cell_type": "markdown",
      "metadata": {
        "id": "view-in-github",
        "colab_type": "text"
      },
      "source": [
        "<a href=\"https://colab.research.google.com/github/ventilaguild/amort/blob/main/01-homework.ipynb\" target=\"_parent\"><img src=\"https://colab.research.google.com/assets/colab-badge.svg\" alt=\"Open In Colab\"/></a>"
      ]
    },
    {
      "cell_type": "code",
      "execution_count": 1,
      "metadata": {
        "id": "k5Ozb_Vs8QkI"
      },
      "outputs": [],
      "source": [
        "import numpy as np\n",
        "import matplotlib.pyplot as plt\n",
        "import io, urllib.request"
      ]
    },
    {
      "cell_type": "code",
      "source": [
        "import random"
      ],
      "metadata": {
        "id": "RwD3zhQBDCAU"
      },
      "execution_count": 14,
      "outputs": []
    },
    {
      "cell_type": "markdown",
      "metadata": {
        "id": "wkrJ7kiZ8QkO"
      },
      "source": [
        "This code downloads a picture (feel free to use your own):"
      ]
    },
    {
      "cell_type": "code",
      "execution_count": 2,
      "metadata": {
        "id": "Tte3wcUF8QkT",
        "outputId": "81497eb6-763c-4367-f8fc-fcc09603909f",
        "colab": {
          "base_uri": "https://localhost:8080/",
          "height": 435
        }
      },
      "outputs": [
        {
          "output_type": "display_data",
          "data": {
            "text/plain": [
              "<Figure size 640x480 with 1 Axes>"
            ],
            "image/png": "[encoded data removed]"
          },
          "metadata": {}
        }
      ],
      "source": [
        "URL = \"https://github.com/qi-rub/it-ss23-homework/raw/main/material/donkey.png\"\n",
        "ORIGINAL = plt.imread(io.BytesIO(urllib.request.urlopen(URL).read()))\n",
        "\n",
        "# remove alpha channel\n",
        "if ORIGINAL.shape[2] == 4:\n",
        "    alpha = ORIGINAL[:, :, 3:]\n",
        "    ORIGINAL = ORIGINAL[:, :, :3] * alpha + (1 - alpha)\n",
        "\n",
        "# convert to black & white\n",
        "WHITE_THRESHOLD = 0.8\n",
        "ORIGINAL = np.where(ORIGINAL[:, :, :3].max(axis=2) > WHITE_THRESHOLD, 0, 1)\n",
        "\n",
        "# show the figure\n",
        "plt.imshow(ORIGINAL, cmap=plt.get_cmap(\"binary\"), interpolation=\"none\")\n",
        "plt.show()"
      ]
    },
    {
      "cell_type": "markdown",
      "metadata": {
        "id": "GkdQJWWJ8QkX"
      },
      "source": [
        "All inputs and outputs should be 2d arrays that contain only zeros and ones (corresponding to black&white images).\n",
        "For example:"
      ]
    },
    {
      "cell_type": "code",
      "execution_count": 3,
      "metadata": {
        "id": "g1_0Wb2t8Qkb",
        "outputId": "1d14d13d-beca-4267-b8a0-6b78619ab32f",
        "colab": {
          "base_uri": "https://localhost:8080/"
        }
      },
      "outputs": [
        {
          "output_type": "execute_result",
          "data": {
            "text/plain": [
              "(668, 791)"
            ]
          },
          "metadata": {},
          "execution_count": 3
        }
      ],
      "source": [
        "ORIGINAL.shape"
      ]
    },
    {
      "cell_type": "markdown",
      "metadata": {
        "id": "0amKyHq-8Qkj"
      },
      "source": [
        "# The Noise Channel\n",
        "\n",
        "The following function should model a noise channel with probability of bit flip $f$.\n",
        "<span style=\"background-color: yellow\">Right now it does nothing -- can you fix this?</span>\n",
        "\n",
        "*Hint: Never modify an input parameter. If you really need to, make a copy (`output = input.copy()`) before you start modifying.*"
      ]
    },
    {
      "cell_type": "code",
      "execution_count": 4,
      "metadata": {
        "id": "y8SAcI4L8Qke",
        "outputId": "3a6a18d6-0949-44ba-eca7-8eb0c68dafb9",
        "colab": {
          "base_uri": "https://localhost:8080/"
        }
      },
      "outputs": [
        {
          "output_type": "execute_result",
          "data": {
            "text/plain": [
              "{np.int64(0), np.int64(1)}"
            ]
          },
          "metadata": {},
          "execution_count": 4
        }
      ],
      "source": [
        "set(ORIGINAL.flatten())"
      ]
    },
    {
      "cell_type": "code",
      "source": [
        "for i in ORIGINAL.flatten():\n",
        ""
      ],
      "metadata": {
        "id": "05p_XXxTBwtZ",
        "outputId": "bc085c20-f6c1-40ab-fcba-38119f9e2e25",
        "colab": {
          "base_uri": "https://localhost:8080/",
          "height": 108
        }
      },
      "execution_count": 13,
      "outputs": [
        {
          "output_type": "error",
          "ename": "SyntaxError",
          "evalue": "incomplete input (ipython-input-2351868359.py, line 2)",
          "traceback": [
            "\u001b[0;36m  File \u001b[0;32m\"/tmp/ipython-input-2351868359.py\"\u001b[0;36m, line \u001b[0;32m2\u001b[0m\n\u001b[0;31m    \u001b[0m\n\u001b[0m    ^\u001b[0m\n\u001b[0;31mSyntaxError\u001b[0m\u001b[0;31m:\u001b[0m incomplete input\n"
          ]
        }
      ]
    },
    {
      "cell_type": "code",
      "execution_count": 15,
      "metadata": {
        "id": "4-4NWOqv8Qkk"
      },
      "outputs": [],
      "source": [
        "def noise_channel(f, input):\n",
        "    # TODO\n",
        "\n",
        "    output = input.copy()\n",
        "\n",
        "    for i in output.flatten:\n",
        "      r = random.uniform(0, 1)\n",
        "      if f <= r:\n",
        "        i = 1- i\n",
        "\n",
        "    return output"
      ]
    },
    {
      "cell_type": "markdown",
      "metadata": {
        "id": "p29cAiiR8Qko"
      },
      "source": [
        "You can test your implementation with the following code:"
      ]
    },
    {
      "cell_type": "code",
      "execution_count": null,
      "metadata": {
        "id": "Kl88XTre8Qku",
        "outputId": "708f0f7e-18f5-4c0c-e0a3-4220b706678d"
      },
      "outputs": [
        {
          "name": "stdout",
          "output_type": "stream",
          "text": [
            "10% bit flips expected\n",
            " 0% bit flips detected\n"
          ]
        }
      ],
      "source": [
        "NOISE_RATE = 0.1\n",
        "output = noise_channel(NOISE_RATE, ORIGINAL)\n",
        "\n",
        "f_est = np.mean(output != ORIGINAL)\n",
        "print(f\"{NOISE_RATE:3.0%} bit flips expected\")\n",
        "print(f\"{f_est:3.0%} bit flips detected\")"
      ]
    },
    {
      "cell_type": "markdown",
      "metadata": {
        "id": "96eAq02-8Qkz"
      },
      "source": [
        "# The Repetition Code\n",
        "\n",
        "The following two functions should implement the repetition code $R_3$.\n",
        "<span style=\"background-color: yellow\">Right now these functions do nothing at all either -- can you fix this?</span>"
      ]
    },
    {
      "cell_type": "code",
      "execution_count": null,
      "metadata": {
        "id": "WvujDwew8Qk1"
      },
      "outputs": [],
      "source": [
        "def encode(source):\n",
        "    # TODO\n",
        "\n",
        "    return source\n",
        "\n",
        "\n",
        "def decode(received):\n",
        "    # TODO\n",
        "\n",
        "    return received"
      ]
    },
    {
      "cell_type": "markdown",
      "metadata": {
        "id": "fLuEhLY58Qk2"
      },
      "source": [
        "You can test your solution with the following code:"
      ]
    },
    {
      "cell_type": "code",
      "execution_count": null,
      "metadata": {
        "id": "gu9F5wtG8Qk3",
        "outputId": "703a4de0-46ce-4d42-d925-0faa1e3d95b9"
      },
      "outputs": [
        {
          "data": {
            "image/png": "[encoded data removed]",
            "text/plain": [
              "<Figure size 864x864 with 4 Axes>"
            ]
          },
          "metadata": {
            "image/png": {
              "height": 195,
              "width": 857
            },
            "needs_background": "light"
          },
          "output_type": "display_data"
        }
      ],
      "source": [
        "# simulate channel\n",
        "encoded = encode(ORIGINAL)\n",
        "\n",
        "received = noise_channel(NOISE_RATE, encoded)\n",
        "assert received.shape == encoded.shape, \"Noise channel should not change image size.\"\n",
        "\n",
        "decoded = decode(received)\n",
        "assert (\n",
        "    decoded.shape == ORIGINAL.shape\n",
        "), \"Decoder should produce image of same size as the original.\"\n",
        "\n",
        "\n",
        "# compute statistics\n",
        "f_raw = np.mean(received != encoded)\n",
        "f_dec = np.mean(decoded != ORIGINAL)\n",
        "\n",
        "# plot pictures\n",
        "fig, row = plt.subplots(1, 4, figsize=(12, 12))\n",
        "\n",
        "row[0].set_title(\"original\")\n",
        "row[0].imshow(ORIGINAL, cmap=plt.get_cmap(\"binary\"), interpolation=\"none\")\n",
        "\n",
        "row[1].set_title(\"encoded\")\n",
        "row[1].imshow(encoded, cmap=plt.get_cmap(\"binary\"), interpolation=\"none\")\n",
        "\n",
        "row[2].set_title(f\"received ({f_raw:.0%} error)\")\n",
        "row[2].imshow(received, cmap=plt.get_cmap(\"binary\"), interpolation=\"none\")\n",
        "\n",
        "row[3].set_title(f\"decoded ({f_dec:.0%} error)\")\n",
        "row[3].imshow(decoded, cmap=plt.get_cmap(\"binary\"), interpolation=\"none\")\n",
        "\n",
        "fig.tight_layout()"
      ]
    },
    {
      "cell_type": "markdown",
      "metadata": {
        "id": "OZs2i7DO8Qk7"
      },
      "source": [
        "Does the output look similar to Figure 1.11 in [MacKay's book](http://www.inference.org.uk/itprnn/book.pdf)?"
      ]
    },
    {
      "cell_type": "markdown",
      "metadata": {
        "id": "lBj6VSwq8Qk8"
      },
      "source": [
        "**Bonus challenges (completely optional):**\n",
        "1. Change your code to implement the repetition code $R_5$.\n",
        "2. Change your code to implement the repetition code $R_k$ for general $k$. How does the error of the decoded image change as a function of $f$ and $k$?"
      ]
    }
  ],
  "metadata": {
    "kernelspec": {
      "display_name": "Python 3 (ipykernel)",
      "language": "python",
      "name": "python3"
    },
    "language_info": {
      "codemirror_mode": {
        "name": "ipython",
        "version": 3
      },
      "file_extension": ".py",
      "mimetype": "text/x-python",
      "name": "python",
      "nbconvert_exporter": "python",
      "pygments_lexer": "ipython3",
      "version": "3.9.4"
    },
    "colab": {
      "provenance": [],
      "include_colab_link": true
    }
  },
  "nbformat": 4,
  "nbformat_minor": 0
}